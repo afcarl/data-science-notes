{
 "metadata": {
  "language_info": {
   "codemirror_mode": {
    "name": "ipython",
    "version": 2
   },
   "mimetype": "text/x-python",
   "name": "python",
   "pygments_lexer": "ipython2"
  },
  "name": "",
  "signature": "sha256:6d49a05af110a98de921220450e0f4ba3371c4433ba72e949ba366bd230a3eda"
 },
 "nbformat": 3,
 "nbformat_minor": 0,
 "worksheets": [
  {
   "cells": [
    {
     "cell_type": "heading",
     "level": 1,
     "metadata": {},
     "source": [
      "Prepare Wiki Corpus using Gensim"
     ]
    },
    {
     "cell_type": "markdown",
     "metadata": {},
     "source": [
      " - [Tutorial: Experiments on the English Wikipedia](http://radimrehurek.com/gensim/wiki.html)\n",
      " - [Wikipedia Dumps](http://dumps.wikimedia.org/enwiki/20141208/)"
     ]
    },
    {
     "cell_type": "heading",
     "level": 2,
     "metadata": {},
     "source": [
      "Create initial corpus using `make_wiki`"
     ]
    },
    {
     "cell_type": "markdown",
     "metadata": {},
     "source": [
      "```bash\n",
      "python -m gensim.scripts.make_wiki\n",
      "```"
     ]
    },
    {
     "cell_type": "heading",
     "level": 2,
     "metadata": {},
     "source": [
      "Imports"
     ]
    },
    {
     "cell_type": "code",
     "collapsed": false,
     "input": [
      "import gensim\n",
      "import bz2\n",
      "import numpy as np\n",
      "import scipy as sp\n",
      "import datetime\n",
      "import logging"
     ],
     "language": "python",
     "metadata": {},
     "outputs": [],
     "prompt_number": 4
    },
    {
     "cell_type": "heading",
     "level": 2,
     "metadata": {},
     "source": [
      "Shuffle and Split"
     ]
    },
    {
     "cell_type": "code",
     "collapsed": false,
     "input": [
      "np.random.seed(123)\n",
      "doc_indices = np.random.permutation(mm.num_docs)\n",
      "\n",
      "n_valid = 100000\n",
      "n_test = 100000\n",
      "n_toy = 1000\n",
      "\n",
      "doc_valid = doc_indices[:n_valid]\n",
      "doc_test = doc_indices[n_valid:(n_valid+n_test)]\n",
      "doc_train = doc_indices[(n_valid+n_test):]\n",
      "\n",
      "doc_toy1 = doc_indices[:n_toy]\n",
      "doc_toy2 = doc_indices[n_toy:2*n_toy]"
     ],
     "language": "python",
     "metadata": {},
     "outputs": []
    },
    {
     "cell_type": "heading",
     "level": 2,
     "metadata": {},
     "source": [
      "Write bag-of-words in MaxtrixMarket (Gensim, BigARTM) and Vowpal Wabbit formats"
     ]
    },
    {
     "cell_type": "code",
     "collapsed": false,
     "input": [
      "def write_corpus_mm(filename, corpus_csc, doc_indices, float_val=False):\n",
      "    \"\"\"\n",
      "    Create MatrixMarket format with corpus\n",
      "    \n",
      "    Numeration:\n",
      "        docs: one-based\n",
      "        terma: one-based\n",
      "    \"\"\"\n",
      "    nnz = 0\n",
      "    for d in doc_indices:\n",
      "        nnz += corpus_csc.indptr[d+1] - corpus_csc.indptr[d]\n",
      "    print 'Estimated nnz:', nnz\n",
      "    \n",
      "    print 'Writing mm file:', filename\n",
      "    with open(filename, 'w') as fout:\n",
      "        fout.write('%%MatrixMarket matrix coordinate real general\\n')\n",
      "        fout.write('%d %d %d\\n' % (len(doc_indices), corpus_csc.shape[0], nnz))\n",
      "        for i, d in enumerate(doc_indices):\n",
      "            terms = corpus_csc.indices[corpus_csc.indptr[d]:corpus_csc.indptr[d+1]]\n",
      "            values = corpus_csc.data[corpus_csc.indptr[d]:corpus_csc.indptr[d+1]]\n",
      "            for term, value in zip(terms, values):\n",
      "                if not float_val:\n",
      "                    fout.write('%d %d %d\\n' % (i+1, term+1, value))\n",
      "                else:\n",
      "                    fout.write('%d %d %f\\n' % (i+1, term+1, value))\n",
      "            if i % 10000 == 0:\n",
      "                print 'Writed %d docs' % i\n",
      "            \n",
      "def write_corpus_vw(filename, corpus_csc, doc_indices, float_val=False):\n",
      "    \"\"\"\n",
      "    Create Vowpal Wabbit file with corpus\n",
      "    \n",
      "    Numeration:\n",
      "        docs: zero-based\n",
      "        terms: zero-based\n",
      "    \"\"\"\n",
      "    print 'Writing vw file:', filename\n",
      "    with open(filename, 'w') as fout:\n",
      "        for i, d in enumerate(doc_indices):\n",
      "            terms = corpus_csc.indices[corpus_csc.indptr[d]:corpus_csc.indptr[d+1]]\n",
      "            values = corpus_csc.data[corpus_csc.indptr[d]:corpus_csc.indptr[d+1]]\n",
      "            \n",
      "            fout.write(' \\'%d |' % i)            \n",
      "            for term, value in zip(terms, values):\n",
      "                if not float_val:\n",
      "                    if value == 1:\n",
      "                        fout.write(' %d' % term)\n",
      "                    else:\n",
      "                        fout.write(' %d:%d' % (term, value))\n",
      "                else:\n",
      "                    fout.write(' %d:%f\\n' % (term, value))\n",
      "            fout.write('\\n')\n",
      "                    \n",
      "            if i % 10000 == 0:\n",
      "                print 'Writed %d docs' % i\n",
      "            "
     ],
     "language": "python",
     "metadata": {},
     "outputs": [],
     "prompt_number": 60
    },
    {
     "cell_type": "heading",
     "level": 3,
     "metadata": {},
     "source": [
      "Run it!"
     ]
    },
    {
     "cell_type": "code",
     "collapsed": false,
     "input": [
      "write_corpus_mm('wiki_corpus/wiki_bow_valid.mm', corpus_csc, doc_valid)\n",
      "write_corpus_mm('wiki_corpus/wiki_bow_test.mm', corpus_csc, doc_test)\n",
      "write_corpus_mm('wiki_corpus/wiki_bow_train.mm', corpus_csc, doc_train)\n",
      "\n",
      "write_corpus_vw('wiki_corpus/wiki_bow_valid.vw', corpus_csc, doc_valid)\n",
      "write_corpus_vw('wiki_corpus/wiki_bow_test.vw', corpus_csc, doc_test)\n",
      "write_corpus_vw('wiki_corpus/wiki_bow_train.vw', corpus_csc, doc_train)"
     ],
     "language": "python",
     "metadata": {},
     "outputs": [
      {
       "output_type": "stream",
       "stream": "stdout",
       "text": [
        "Estimated nnz: 15574577\n",
        "Writing mm file: wiki_corpus/wiki_bow_valid.mm\n",
        "Writed 0 docs\n",
        "Writed 10000 docs\n",
        "Writed 20000 docs\n",
        "Writed 30000 docs\n",
        "Writed 40000 docs\n",
        "Writed 50000 docs\n",
        "Writed 60000 docs\n",
        "Writed 70000 docs\n",
        "Writed 80000 docs\n",
        "Writed 90000 docs\n",
        "Estimated nnz: 15405528\n",
        "Writing mm file: wiki_corpus/wiki_bow_test.mm\n",
        "Writed 0 docs\n",
        "Writed 10000 docs\n",
        "Writed 20000 docs\n",
        "Writed 30000 docs\n",
        "Writed 40000 docs\n",
        "Writed 50000 docs\n",
        "Writed 60000 docs\n",
        "Writed 70000 docs\n",
        "Writed 80000 docs\n",
        "Writed 90000 docs\n",
        "Estimated nnz: 545608177\n",
        "Writing mm file: wiki_corpus/wiki_bow_train.mm\n",
        "Writed 0 docs\n",
        "Writed 10000 docs\n",
        "Writed 20000 docs\n",
        "Writed 30000 docs\n",
        "Writed 40000 docs\n",
        "Writed 50000 docs\n",
        "Writed 60000 docs\n",
        "Writed 70000 docs\n",
        "Writed 80000 docs\n",
        "Writed 90000 docs\n",
        "Writed 100000 docs\n",
        "Writed 110000 docs\n",
        "Writed 120000 docs\n",
        "Writed 130000 docs\n",
        "Writed 140000 docs\n",
        "Writed 150000 docs\n",
        "Writed 160000 docs\n",
        "Writed 170000 docs\n",
        "Writed 180000 docs\n",
        "Writed 190000 docs\n",
        "Writed 200000 docs\n",
        "Writed 210000 docs\n",
        "Writed 220000 docs\n",
        "Writed 230000 docs\n",
        "Writed 240000 docs\n",
        "Writed 250000 docs\n",
        "Writed 260000 docs\n",
        "Writed 270000 docs\n",
        "Writed 280000 docs\n",
        "Writed 290000 docs\n",
        "Writed 300000 docs\n",
        "Writed 310000 docs\n",
        "Writed 320000 docs\n",
        "Writed 330000 docs\n",
        "Writed 340000 docs\n",
        "Writed 350000 docs\n",
        "Writed 360000 docs\n",
        "Writed 370000 docs\n",
        "Writed 380000 docs\n",
        "Writed 390000 docs\n",
        "Writed 400000 docs\n",
        "Writed 410000 docs\n",
        "Writed 420000 docs\n",
        "Writed 430000 docs\n",
        "Writed 440000 docs\n",
        "Writed 450000 docs\n",
        "Writed 460000 docs\n",
        "Writed 470000 docs\n",
        "Writed 480000 docs\n",
        "Writed 490000 docs\n",
        "Writed 500000 docs\n",
        "Writed 510000 docs\n",
        "Writed 520000 docs\n",
        "Writed 530000 docs\n",
        "Writed 540000 docs\n",
        "Writed 550000 docs\n",
        "Writed 560000 docs\n",
        "Writed 570000 docs\n",
        "Writed 580000 docs\n",
        "Writed 590000 docs\n",
        "Writed 600000 docs\n",
        "Writed 610000 docs\n",
        "Writed 620000 docs\n",
        "Writed 630000 docs\n",
        "Writed 640000 docs\n",
        "Writed 650000 docs\n",
        "Writed 660000 docs\n",
        "Writed 670000 docs"
       ]
      }
     ]
    },
    {
     "cell_type": "heading",
     "level": 3,
     "metadata": {},
     "source": [
      "Auxiliary toy corpuses for debug"
     ]
    },
    {
     "cell_type": "code",
     "collapsed": false,
     "input": [
      "write_corpus_mm('wiki_corpus/wiki_bow_toy1.mm', corpus_csc, doc_toy1)\n",
      "write_corpus_mm('wiki_corpus/wiki_bow_toy2.mm', corpus_csc, doc_toy2)\n",
      "\n",
      "write_corpus_vw('wiki_corpus/wiki_bow_toy1.vw', corpus_csc, doc_toy1)\n",
      "write_corpus_vw('wiki_corpus/wiki_bow_toy2.vw', corpus_csc, doc_toy2)"
     ],
     "language": "python",
     "metadata": {},
     "outputs": []
    }
   ],
   "metadata": {}
  }
 ]
}